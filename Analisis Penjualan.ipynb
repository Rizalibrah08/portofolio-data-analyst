{
 "cells": [
  {
   "cell_type": "code",
   "execution_count": null,
   "id": "436c21c4-74bb-490b-b8a6-5c851a66fcd3",
   "metadata": {},
   "outputs": [],
   "source": [
    "# ---------------------------------\n",
    "# JUDUL PROYEK: ANALISIS DATA PENJUALAN E-COMMERCE ABC\n",
    "# OLEH: Muhammad Rizal Ibrahim\n",
    "# ---------------------------------\n",
    "\n",
    "# 1. LATAR BELAKANG\n",
    "# Perusahaan E-commerce ABC ingin memahami perilaku pelanggan dan performa penjualan \n",
    "# untuk meningkatkan strategi marketing di kuartal berikutnya.\n",
    "\n",
    "# 2. PERTANYAAN ANALISIS\n",
    "# a. Produk apa yang paling banyak terjual?\n",
    "# b. Kapan waktu yang disukai customer melakukan transaksi?\n",
    "# c. Region mana yang memberikan kontribusi penjualan tertinggi?\n"
   ]
  },
  {
   "cell_type": "code",
   "execution_count": 2,
   "id": "cf04b95d-f47d-4cce-82f7-803b762b89eb",
   "metadata": {},
   "outputs": [],
   "source": [
    "# 3. IMPORT LIBRARY\n",
    "import pandas as pd\n",
    "import matplotlib.pyplot as plt\n",
    "import seaborn as sns"
   ]
  },
  {
   "cell_type": "code",
   "execution_count": 4,
   "id": "2f00a773-46c8-4411-a8f0-76755333f3a7",
   "metadata": {},
   "outputs": [
    {
     "name": "stdout",
     "output_type": "stream",
     "text": [
      "<class 'pandas.core.frame.DataFrame'>\n",
      "RangeIndex: 10000 entries, 0 to 9999\n",
      "Data columns (total 15 columns):\n",
      " #   Column                    Non-Null Count  Dtype  \n",
      "---  ------                    --------------  -----  \n",
      " 0   Customer_ID               10000 non-null  object \n",
      " 1   Product_ID                10000 non-null  object \n",
      " 2   Transaction_ID            10000 non-null  object \n",
      " 3   Purchase_Frequency        10000 non-null  int64  \n",
      " 4   Average_Order_Value       10000 non-null  float64\n",
      " 5   Most_Frequent_Category    10000 non-null  object \n",
      " 6   Time_Between_Purchases    10000 non-null  int64  \n",
      " 7   Region                    10000 non-null  object \n",
      " 8   Churn_Probability         10000 non-null  float64\n",
      " 9   Lifetime_Value            10000 non-null  float64\n",
      " 10  Launch_Date               10000 non-null  object \n",
      " 11  Peak_Sales_Date           10000 non-null  object \n",
      " 12  Season                    10000 non-null  object \n",
      " 13  Preferred_Purchase_Times  10000 non-null  object \n",
      " 14  Retention_Strategy        10000 non-null  object \n",
      "dtypes: float64(3), int64(2), object(10)\n",
      "memory usage: 1.1+ MB\n"
     ]
    }
   ],
   "source": [
    "# 4. DATA LOADING\n",
    "# (Upload file .csv Anda ke Google Colab, lalu baca dengan Pandas)\n",
    "df = pd.read_csv(r\"C:\\rijal\\Data Analyst\\Dataset\\sales_and_customer_insights.csv\")\n",
    "df.info() # Lihat gambaran awal data"
   ]
  },
  {
   "cell_type": "code",
   "execution_count": 9,
   "id": "5246d2bf-72b5-4fba-8231-9b3c8df29f8c",
   "metadata": {},
   "outputs": [
    {
     "name": "stdout",
     "output_type": "stream",
     "text": [
      "<class 'pandas.core.frame.DataFrame'>\n",
      "RangeIndex: 10000 entries, 0 to 9999\n",
      "Data columns (total 15 columns):\n",
      " #   Column                    Non-Null Count  Dtype         \n",
      "---  ------                    --------------  -----         \n",
      " 0   Customer_ID               10000 non-null  object        \n",
      " 1   Product_ID                10000 non-null  object        \n",
      " 2   Transaction_ID            10000 non-null  object        \n",
      " 3   Purchase_Frequency        10000 non-null  int64         \n",
      " 4   Average_Order_Value       10000 non-null  float64       \n",
      " 5   Most_Frequent_Category    10000 non-null  object        \n",
      " 6   Time_Between_Purchases    10000 non-null  int64         \n",
      " 7   Region                    10000 non-null  object        \n",
      " 8   Churn_Probability         10000 non-null  float64       \n",
      " 9   Lifetime_Value            10000 non-null  float64       \n",
      " 10  Launch_Date               10000 non-null  datetime64[ns]\n",
      " 11  Peak_Sales_Date           10000 non-null  object        \n",
      " 12  Season                    10000 non-null  object        \n",
      " 13  Preferred_Purchase_Times  10000 non-null  object        \n",
      " 14  Retention_Strategy        10000 non-null  object        \n",
      "dtypes: datetime64[ns](1), float64(3), int64(2), object(9)\n",
      "memory usage: 1.1+ MB\n"
     ]
    }
   ],
   "source": [
    "df['Launch_Date'] = pd.to_datetime(df['Launch_Date'])\n",
    "df.info()"
   ]
  },
  {
   "cell_type": "code",
   "execution_count": 41,
   "id": "de7df7f1-3da8-40b2-8fcd-0a4b0daa3d73",
   "metadata": {},
   "outputs": [
    {
     "data": {
      "text/plain": [
       "Customer_ID                 0\n",
       "Product_ID                  0\n",
       "Transaction_ID              0\n",
       "Purchase_Frequency          0\n",
       "Average_Order_Value         0\n",
       "Most_Frequent_Category      0\n",
       "Time_Between_Purchases      0\n",
       "Region                      0\n",
       "Churn_Probability           0\n",
       "Lifetime_Value              0\n",
       "Launch_Date                 0\n",
       "Peak_Sales_Date             0\n",
       "Season                      0\n",
       "Preferred_Purchase_Times    0\n",
       "Retention_Strategy          0\n",
       "dtype: int64"
      ]
     },
     "execution_count": 41,
     "metadata": {},
     "output_type": "execute_result"
    }
   ],
   "source": [
    "# 5. DATA CLEANING\n",
    "# (Cek missing values, ubah tipe data jika perlu)\n",
    "df.isnull().sum()\n",
    "# Contoh: Jika ada data tanggal yang masih object, ubah ke datetime\n",
    "# df['order_date'] = pd.to_datetime(df['order_date'])"
   ]
  },
  {
   "cell_type": "code",
   "execution_count": 13,
   "id": "acc3accd-bb4b-4dd3-835f-024f479d00a0",
   "metadata": {},
   "outputs": [
    {
     "data": {
      "text/html": [
       "<div>\n",
       "<style scoped>\n",
       "    .dataframe tbody tr th:only-of-type {\n",
       "        vertical-align: middle;\n",
       "    }\n",
       "\n",
       "    .dataframe tbody tr th {\n",
       "        vertical-align: top;\n",
       "    }\n",
       "\n",
       "    .dataframe thead th {\n",
       "        text-align: right;\n",
       "    }\n",
       "</style>\n",
       "<table border=\"1\" class=\"dataframe\">\n",
       "  <thead>\n",
       "    <tr style=\"text-align: right;\">\n",
       "      <th></th>\n",
       "      <th>Customer_ID</th>\n",
       "      <th>Product_ID</th>\n",
       "      <th>Transaction_ID</th>\n",
       "      <th>Purchase_Frequency</th>\n",
       "      <th>Average_Order_Value</th>\n",
       "      <th>Most_Frequent_Category</th>\n",
       "      <th>Time_Between_Purchases</th>\n",
       "      <th>Region</th>\n",
       "      <th>Churn_Probability</th>\n",
       "      <th>Lifetime_Value</th>\n",
       "      <th>Launch_Date</th>\n",
       "      <th>Peak_Sales_Date</th>\n",
       "      <th>Season</th>\n",
       "      <th>Preferred_Purchase_Times</th>\n",
       "      <th>Retention_Strategy</th>\n",
       "    </tr>\n",
       "  </thead>\n",
       "  <tbody>\n",
       "    <tr>\n",
       "      <th>0</th>\n",
       "      <td>CUST_9HOS83</td>\n",
       "      <td>PROD_IK97D1</td>\n",
       "      <td>TRANS_II1DZG</td>\n",
       "      <td>17</td>\n",
       "      <td>172.57</td>\n",
       "      <td>Electronics</td>\n",
       "      <td>45</td>\n",
       "      <td>South America</td>\n",
       "      <td>0.98</td>\n",
       "      <td>952.81</td>\n",
       "      <td>2020-03-14</td>\n",
       "      <td>2023-09-11</td>\n",
       "      <td>Winter</td>\n",
       "      <td>Afternoon</td>\n",
       "      <td>Loyalty Program</td>\n",
       "    </tr>\n",
       "    <tr>\n",
       "      <th>1</th>\n",
       "      <td>CUST_AJU17N</td>\n",
       "      <td>PROD_UNN7KP</td>\n",
       "      <td>TRANS_9HJF7I</td>\n",
       "      <td>10</td>\n",
       "      <td>64.89</td>\n",
       "      <td>Clothing</td>\n",
       "      <td>6</td>\n",
       "      <td>South America</td>\n",
       "      <td>0.66</td>\n",
       "      <td>5427.51</td>\n",
       "      <td>2022-10-15</td>\n",
       "      <td>2023-01-02</td>\n",
       "      <td>Spring</td>\n",
       "      <td>Afternoon</td>\n",
       "      <td>Discount</td>\n",
       "    </tr>\n",
       "    <tr>\n",
       "      <th>2</th>\n",
       "      <td>CUST_11XNYF</td>\n",
       "      <td>PROD_0XEW2W</td>\n",
       "      <td>TRANS_OT96OM</td>\n",
       "      <td>3</td>\n",
       "      <td>120.38</td>\n",
       "      <td>Sports</td>\n",
       "      <td>23</td>\n",
       "      <td>Asia</td>\n",
       "      <td>0.60</td>\n",
       "      <td>3994.80</td>\n",
       "      <td>2021-11-30</td>\n",
       "      <td>2023-04-06</td>\n",
       "      <td>Winter</td>\n",
       "      <td>Evening</td>\n",
       "      <td>Loyalty Program</td>\n",
       "    </tr>\n",
       "    <tr>\n",
       "      <th>3</th>\n",
       "      <td>CUST_IGH8G3</td>\n",
       "      <td>PROD_3IIAJN</td>\n",
       "      <td>TRANS_45V00G</td>\n",
       "      <td>12</td>\n",
       "      <td>70.34</td>\n",
       "      <td>Clothing</td>\n",
       "      <td>5</td>\n",
       "      <td>North America</td>\n",
       "      <td>0.78</td>\n",
       "      <td>4880.01</td>\n",
       "      <td>2022-03-20</td>\n",
       "      <td>2023-03-23</td>\n",
       "      <td>Spring</td>\n",
       "      <td>Evening</td>\n",
       "      <td>Discount</td>\n",
       "    </tr>\n",
       "    <tr>\n",
       "      <th>4</th>\n",
       "      <td>CUST_OK6PUM</td>\n",
       "      <td>PROD_VMIWD2</td>\n",
       "      <td>TRANS_ZAK760</td>\n",
       "      <td>18</td>\n",
       "      <td>42.39</td>\n",
       "      <td>Electronics</td>\n",
       "      <td>10</td>\n",
       "      <td>North America</td>\n",
       "      <td>0.52</td>\n",
       "      <td>8557.70</td>\n",
       "      <td>2022-11-09</td>\n",
       "      <td>2023-10-28</td>\n",
       "      <td>Spring</td>\n",
       "      <td>Morning</td>\n",
       "      <td>Discount</td>\n",
       "    </tr>\n",
       "  </tbody>\n",
       "</table>\n",
       "</div>"
      ],
      "text/plain": [
       "   Customer_ID   Product_ID Transaction_ID  Purchase_Frequency  \\\n",
       "0  CUST_9HOS83  PROD_IK97D1   TRANS_II1DZG                  17   \n",
       "1  CUST_AJU17N  PROD_UNN7KP   TRANS_9HJF7I                  10   \n",
       "2  CUST_11XNYF  PROD_0XEW2W   TRANS_OT96OM                   3   \n",
       "3  CUST_IGH8G3  PROD_3IIAJN   TRANS_45V00G                  12   \n",
       "4  CUST_OK6PUM  PROD_VMIWD2   TRANS_ZAK760                  18   \n",
       "\n",
       "   Average_Order_Value Most_Frequent_Category  Time_Between_Purchases  \\\n",
       "0               172.57            Electronics                      45   \n",
       "1                64.89               Clothing                       6   \n",
       "2               120.38                 Sports                      23   \n",
       "3                70.34               Clothing                       5   \n",
       "4                42.39            Electronics                      10   \n",
       "\n",
       "          Region  Churn_Probability  Lifetime_Value Launch_Date  \\\n",
       "0  South America               0.98          952.81  2020-03-14   \n",
       "1  South America               0.66         5427.51  2022-10-15   \n",
       "2           Asia               0.60         3994.80  2021-11-30   \n",
       "3  North America               0.78         4880.01  2022-03-20   \n",
       "4  North America               0.52         8557.70  2022-11-09   \n",
       "\n",
       "  Peak_Sales_Date  Season Preferred_Purchase_Times Retention_Strategy  \n",
       "0      2023-09-11  Winter                Afternoon    Loyalty Program  \n",
       "1      2023-01-02  Spring                Afternoon           Discount  \n",
       "2      2023-04-06  Winter                  Evening    Loyalty Program  \n",
       "3      2023-03-23  Spring                  Evening           Discount  \n",
       "4      2023-10-28  Spring                  Morning           Discount  "
      ]
     },
     "execution_count": 13,
     "metadata": {},
     "output_type": "execute_result"
    }
   ],
   "source": [
    "df.head()"
   ]
  },
  {
   "cell_type": "code",
   "execution_count": 23,
   "id": "24c18a66-ce79-4965-bd93-c6928202be73",
   "metadata": {},
   "outputs": [
    {
     "data": {
      "text/plain": [
       "Most_Frequent_Category\n",
       "Electronics    25740\n",
       "Clothing       24858\n",
       "Home           24520\n",
       "Sports         24439\n",
       "Name: Purchase_Frequency, dtype: int64"
      ]
     },
     "execution_count": 23,
     "metadata": {},
     "output_type": "execute_result"
    }
   ],
   "source": [
    "# 6. EXPLORATORY DATA ANALYSIS (EDA) & VISUALISASI\n",
    "# Hitung total penjualan per KAtergoti\n",
    "Kategori_terlaris = df.groupby('Most_Frequent_Category')['Purchase_Frequency'].sum().sort_values(ascending=False).head(10)\n",
    "Kategori_terlaris"
   ]
  },
  {
   "cell_type": "code",
   "execution_count": 24,
   "id": "0dcf3f3f-51f0-40c5-bd91-5bc48309eedd",
   "metadata": {},
   "outputs": [
    {
     "data": {
      "image/png": "[encoded data removed]",
      "text/plain": [
       "<Figure size 1200x600 with 1 Axes>"
      ]
     },
     "metadata": {},
     "output_type": "display_data"
    }
   ],
   "source": [
    "# Buat visualisasinya\n",
    "plt.figure(figsize=(12, 6))\n",
    "sns.barplot(x=Kategori_terlaris.index, y=Kategori_terlaris.values)\n",
    "plt.title('Top 10 Kategori Terlaris')\n",
    "plt.xticks(rotation=45)\n",
    "plt.show()\n",
    "\n",
    "# \"Dari grafik di bawah, dapat dilihat bahwa Kategori Electronics, Clothing, Home dan Sports. Kategori yang diminati\n",
    "# Oleh pelanggan adalah kategori electronic. Ini menunjukkan bahwa fokus promosi bisa diarahkan \n",
    "# pada produk-produk di kategori ini.\""
   ]
  },
  {
   "cell_type": "code",
   "execution_count": 26,
   "id": "f5b6d5c0-78c2-4ec7-bf8c-873fafea59db",
   "metadata": {},
   "outputs": [
    {
     "data": {
      "text/html": [
       "<div>\n",
       "<style scoped>\n",
       "    .dataframe tbody tr th:only-of-type {\n",
       "        vertical-align: middle;\n",
       "    }\n",
       "\n",
       "    .dataframe tbody tr th {\n",
       "        vertical-align: top;\n",
       "    }\n",
       "\n",
       "    .dataframe thead th {\n",
       "        text-align: right;\n",
       "    }\n",
       "</style>\n",
       "<table border=\"1\" class=\"dataframe\">\n",
       "  <thead>\n",
       "    <tr style=\"text-align: right;\">\n",
       "      <th></th>\n",
       "      <th>Customer_ID</th>\n",
       "      <th>Product_ID</th>\n",
       "      <th>Transaction_ID</th>\n",
       "      <th>Purchase_Frequency</th>\n",
       "      <th>Average_Order_Value</th>\n",
       "      <th>Most_Frequent_Category</th>\n",
       "      <th>Time_Between_Purchases</th>\n",
       "      <th>Region</th>\n",
       "      <th>Churn_Probability</th>\n",
       "      <th>Lifetime_Value</th>\n",
       "      <th>Launch_Date</th>\n",
       "      <th>Peak_Sales_Date</th>\n",
       "      <th>Season</th>\n",
       "      <th>Preferred_Purchase_Times</th>\n",
       "      <th>Retention_Strategy</th>\n",
       "    </tr>\n",
       "  </thead>\n",
       "  <tbody>\n",
       "    <tr>\n",
       "      <th>0</th>\n",
       "      <td>CUST_9HOS83</td>\n",
       "      <td>PROD_IK97D1</td>\n",
       "      <td>TRANS_II1DZG</td>\n",
       "      <td>17</td>\n",
       "      <td>172.57</td>\n",
       "      <td>Electronics</td>\n",
       "      <td>45</td>\n",
       "      <td>South America</td>\n",
       "      <td>0.98</td>\n",
       "      <td>952.81</td>\n",
       "      <td>2020-03-14</td>\n",
       "      <td>2023-09-11</td>\n",
       "      <td>Winter</td>\n",
       "      <td>Afternoon</td>\n",
       "      <td>Loyalty Program</td>\n",
       "    </tr>\n",
       "    <tr>\n",
       "      <th>1</th>\n",
       "      <td>CUST_AJU17N</td>\n",
       "      <td>PROD_UNN7KP</td>\n",
       "      <td>TRANS_9HJF7I</td>\n",
       "      <td>10</td>\n",
       "      <td>64.89</td>\n",
       "      <td>Clothing</td>\n",
       "      <td>6</td>\n",
       "      <td>South America</td>\n",
       "      <td>0.66</td>\n",
       "      <td>5427.51</td>\n",
       "      <td>2022-10-15</td>\n",
       "      <td>2023-01-02</td>\n",
       "      <td>Spring</td>\n",
       "      <td>Afternoon</td>\n",
       "      <td>Discount</td>\n",
       "    </tr>\n",
       "    <tr>\n",
       "      <th>2</th>\n",
       "      <td>CUST_11XNYF</td>\n",
       "      <td>PROD_0XEW2W</td>\n",
       "      <td>TRANS_OT96OM</td>\n",
       "      <td>3</td>\n",
       "      <td>120.38</td>\n",
       "      <td>Sports</td>\n",
       "      <td>23</td>\n",
       "      <td>Asia</td>\n",
       "      <td>0.60</td>\n",
       "      <td>3994.80</td>\n",
       "      <td>2021-11-30</td>\n",
       "      <td>2023-04-06</td>\n",
       "      <td>Winter</td>\n",
       "      <td>Evening</td>\n",
       "      <td>Loyalty Program</td>\n",
       "    </tr>\n",
       "    <tr>\n",
       "      <th>3</th>\n",
       "      <td>CUST_IGH8G3</td>\n",
       "      <td>PROD_3IIAJN</td>\n",
       "      <td>TRANS_45V00G</td>\n",
       "      <td>12</td>\n",
       "      <td>70.34</td>\n",
       "      <td>Clothing</td>\n",
       "      <td>5</td>\n",
       "      <td>North America</td>\n",
       "      <td>0.78</td>\n",
       "      <td>4880.01</td>\n",
       "      <td>2022-03-20</td>\n",
       "      <td>2023-03-23</td>\n",
       "      <td>Spring</td>\n",
       "      <td>Evening</td>\n",
       "      <td>Discount</td>\n",
       "    </tr>\n",
       "    <tr>\n",
       "      <th>4</th>\n",
       "      <td>CUST_OK6PUM</td>\n",
       "      <td>PROD_VMIWD2</td>\n",
       "      <td>TRANS_ZAK760</td>\n",
       "      <td>18</td>\n",
       "      <td>42.39</td>\n",
       "      <td>Electronics</td>\n",
       "      <td>10</td>\n",
       "      <td>North America</td>\n",
       "      <td>0.52</td>\n",
       "      <td>8557.70</td>\n",
       "      <td>2022-11-09</td>\n",
       "      <td>2023-10-28</td>\n",
       "      <td>Spring</td>\n",
       "      <td>Morning</td>\n",
       "      <td>Discount</td>\n",
       "    </tr>\n",
       "  </tbody>\n",
       "</table>\n",
       "</div>"
      ],
      "text/plain": [
       "   Customer_ID   Product_ID Transaction_ID  Purchase_Frequency  \\\n",
       "0  CUST_9HOS83  PROD_IK97D1   TRANS_II1DZG                  17   \n",
       "1  CUST_AJU17N  PROD_UNN7KP   TRANS_9HJF7I                  10   \n",
       "2  CUST_11XNYF  PROD_0XEW2W   TRANS_OT96OM                   3   \n",
       "3  CUST_IGH8G3  PROD_3IIAJN   TRANS_45V00G                  12   \n",
       "4  CUST_OK6PUM  PROD_VMIWD2   TRANS_ZAK760                  18   \n",
       "\n",
       "   Average_Order_Value Most_Frequent_Category  Time_Between_Purchases  \\\n",
       "0               172.57            Electronics                      45   \n",
       "1                64.89               Clothing                       6   \n",
       "2               120.38                 Sports                      23   \n",
       "3                70.34               Clothing                       5   \n",
       "4                42.39            Electronics                      10   \n",
       "\n",
       "          Region  Churn_Probability  Lifetime_Value Launch_Date  \\\n",
       "0  South America               0.98          952.81  2020-03-14   \n",
       "1  South America               0.66         5427.51  2022-10-15   \n",
       "2           Asia               0.60         3994.80  2021-11-30   \n",
       "3  North America               0.78         4880.01  2022-03-20   \n",
       "4  North America               0.52         8557.70  2022-11-09   \n",
       "\n",
       "  Peak_Sales_Date  Season Preferred_Purchase_Times Retention_Strategy  \n",
       "0      2023-09-11  Winter                Afternoon    Loyalty Program  \n",
       "1      2023-01-02  Spring                Afternoon           Discount  \n",
       "2      2023-04-06  Winter                  Evening    Loyalty Program  \n",
       "3      2023-03-23  Spring                  Evening           Discount  \n",
       "4      2023-10-28  Spring                  Morning           Discount  "
      ]
     },
     "execution_count": 26,
     "metadata": {},
     "output_type": "execute_result"
    }
   ],
   "source": [
    "df.head()"
   ]
  },
  {
   "cell_type": "code",
   "execution_count": 28,
   "id": "dd402b9f-87ac-4ad6-9cce-d9eabcba5edf",
   "metadata": {},
   "outputs": [
    {
     "data": {
      "text/plain": [
       "Preferred_Purchase_Times\n",
       "Afternoon    3354\n",
       "Evening      3433\n",
       "Morning      3213\n",
       "Name: Transaction_ID, dtype: int64"
      ]
     },
     "execution_count": 28,
     "metadata": {},
     "output_type": "execute_result"
    }
   ],
   "source": [
    "transaksi_waktu_favorite = df.groupby('Preferred_Purchase_Times')['Transaction_ID'].count()\n",
    "transaksi_waktu_favorite"
   ]
  },
  {
   "cell_type": "code",
   "execution_count": 32,
   "id": "fb8ab7b7-8f4a-45c1-bcbe-a5e30dcaa470",
   "metadata": {},
   "outputs": [
    {
     "data": {
      "image/png": "[encoded data removed]",
      "text/plain": [
       "<Figure size 1000x500 with 1 Axes>"
      ]
     },
     "metadata": {},
     "output_type": "display_data"
    }
   ],
   "source": [
    "plt.figure(figsize=(10, 5))\n",
    "sns.lineplot(x=transaksi_waktu_favorite.index, y=transaksi_waktu_favorite.values)\n",
    "plt.title('Jumlah Transaksi dengan waktu yang disukai')\n",
    "plt.xlabel('Waktu')\n",
    "plt.ylabel('Jumlah Transaksi')\n",
    "plt.grid(True)\n",
    "plt.show()\n",
    "\n",
    "# Penjualan tertinggi terjadi pada waktu menuju malam hari. Ini bisa menjadi\n",
    "# acuan waktu untuk mengirimkan notifikasi promo atau iklan."
   ]
  },
  {
   "cell_type": "code",
   "execution_count": 33,
   "id": "fe36404b-1f00-4740-b81f-223db41926f3",
   "metadata": {},
   "outputs": [
    {
     "data": {
      "text/html": [
       "<div>\n",
       "<style scoped>\n",
       "    .dataframe tbody tr th:only-of-type {\n",
       "        vertical-align: middle;\n",
       "    }\n",
       "\n",
       "    .dataframe tbody tr th {\n",
       "        vertical-align: top;\n",
       "    }\n",
       "\n",
       "    .dataframe thead th {\n",
       "        text-align: right;\n",
       "    }\n",
       "</style>\n",
       "<table border=\"1\" class=\"dataframe\">\n",
       "  <thead>\n",
       "    <tr style=\"text-align: right;\">\n",
       "      <th></th>\n",
       "      <th>Customer_ID</th>\n",
       "      <th>Product_ID</th>\n",
       "      <th>Transaction_ID</th>\n",
       "      <th>Purchase_Frequency</th>\n",
       "      <th>Average_Order_Value</th>\n",
       "      <th>Most_Frequent_Category</th>\n",
       "      <th>Time_Between_Purchases</th>\n",
       "      <th>Region</th>\n",
       "      <th>Churn_Probability</th>\n",
       "      <th>Lifetime_Value</th>\n",
       "      <th>Launch_Date</th>\n",
       "      <th>Peak_Sales_Date</th>\n",
       "      <th>Season</th>\n",
       "      <th>Preferred_Purchase_Times</th>\n",
       "      <th>Retention_Strategy</th>\n",
       "    </tr>\n",
       "  </thead>\n",
       "  <tbody>\n",
       "    <tr>\n",
       "      <th>0</th>\n",
       "      <td>CUST_9HOS83</td>\n",
       "      <td>PROD_IK97D1</td>\n",
       "      <td>TRANS_II1DZG</td>\n",
       "      <td>17</td>\n",
       "      <td>172.57</td>\n",
       "      <td>Electronics</td>\n",
       "      <td>45</td>\n",
       "      <td>South America</td>\n",
       "      <td>0.98</td>\n",
       "      <td>952.81</td>\n",
       "      <td>2020-03-14</td>\n",
       "      <td>2023-09-11</td>\n",
       "      <td>Winter</td>\n",
       "      <td>Afternoon</td>\n",
       "      <td>Loyalty Program</td>\n",
       "    </tr>\n",
       "    <tr>\n",
       "      <th>1</th>\n",
       "      <td>CUST_AJU17N</td>\n",
       "      <td>PROD_UNN7KP</td>\n",
       "      <td>TRANS_9HJF7I</td>\n",
       "      <td>10</td>\n",
       "      <td>64.89</td>\n",
       "      <td>Clothing</td>\n",
       "      <td>6</td>\n",
       "      <td>South America</td>\n",
       "      <td>0.66</td>\n",
       "      <td>5427.51</td>\n",
       "      <td>2022-10-15</td>\n",
       "      <td>2023-01-02</td>\n",
       "      <td>Spring</td>\n",
       "      <td>Afternoon</td>\n",
       "      <td>Discount</td>\n",
       "    </tr>\n",
       "    <tr>\n",
       "      <th>2</th>\n",
       "      <td>CUST_11XNYF</td>\n",
       "      <td>PROD_0XEW2W</td>\n",
       "      <td>TRANS_OT96OM</td>\n",
       "      <td>3</td>\n",
       "      <td>120.38</td>\n",
       "      <td>Sports</td>\n",
       "      <td>23</td>\n",
       "      <td>Asia</td>\n",
       "      <td>0.60</td>\n",
       "      <td>3994.80</td>\n",
       "      <td>2021-11-30</td>\n",
       "      <td>2023-04-06</td>\n",
       "      <td>Winter</td>\n",
       "      <td>Evening</td>\n",
       "      <td>Loyalty Program</td>\n",
       "    </tr>\n",
       "    <tr>\n",
       "      <th>3</th>\n",
       "      <td>CUST_IGH8G3</td>\n",
       "      <td>PROD_3IIAJN</td>\n",
       "      <td>TRANS_45V00G</td>\n",
       "      <td>12</td>\n",
       "      <td>70.34</td>\n",
       "      <td>Clothing</td>\n",
       "      <td>5</td>\n",
       "      <td>North America</td>\n",
       "      <td>0.78</td>\n",
       "      <td>4880.01</td>\n",
       "      <td>2022-03-20</td>\n",
       "      <td>2023-03-23</td>\n",
       "      <td>Spring</td>\n",
       "      <td>Evening</td>\n",
       "      <td>Discount</td>\n",
       "    </tr>\n",
       "    <tr>\n",
       "      <th>4</th>\n",
       "      <td>CUST_OK6PUM</td>\n",
       "      <td>PROD_VMIWD2</td>\n",
       "      <td>TRANS_ZAK760</td>\n",
       "      <td>18</td>\n",
       "      <td>42.39</td>\n",
       "      <td>Electronics</td>\n",
       "      <td>10</td>\n",
       "      <td>North America</td>\n",
       "      <td>0.52</td>\n",
       "      <td>8557.70</td>\n",
       "      <td>2022-11-09</td>\n",
       "      <td>2023-10-28</td>\n",
       "      <td>Spring</td>\n",
       "      <td>Morning</td>\n",
       "      <td>Discount</td>\n",
       "    </tr>\n",
       "  </tbody>\n",
       "</table>\n",
       "</div>"
      ],
      "text/plain": [
       "   Customer_ID   Product_ID Transaction_ID  Purchase_Frequency  \\\n",
       "0  CUST_9HOS83  PROD_IK97D1   TRANS_II1DZG                  17   \n",
       "1  CUST_AJU17N  PROD_UNN7KP   TRANS_9HJF7I                  10   \n",
       "2  CUST_11XNYF  PROD_0XEW2W   TRANS_OT96OM                   3   \n",
       "3  CUST_IGH8G3  PROD_3IIAJN   TRANS_45V00G                  12   \n",
       "4  CUST_OK6PUM  PROD_VMIWD2   TRANS_ZAK760                  18   \n",
       "\n",
       "   Average_Order_Value Most_Frequent_Category  Time_Between_Purchases  \\\n",
       "0               172.57            Electronics                      45   \n",
       "1                64.89               Clothing                       6   \n",
       "2               120.38                 Sports                      23   \n",
       "3                70.34               Clothing                       5   \n",
       "4                42.39            Electronics                      10   \n",
       "\n",
       "          Region  Churn_Probability  Lifetime_Value Launch_Date  \\\n",
       "0  South America               0.98          952.81  2020-03-14   \n",
       "1  South America               0.66         5427.51  2022-10-15   \n",
       "2           Asia               0.60         3994.80  2021-11-30   \n",
       "3  North America               0.78         4880.01  2022-03-20   \n",
       "4  North America               0.52         8557.70  2022-11-09   \n",
       "\n",
       "  Peak_Sales_Date  Season Preferred_Purchase_Times Retention_Strategy  \n",
       "0      2023-09-11  Winter                Afternoon    Loyalty Program  \n",
       "1      2023-01-02  Spring                Afternoon           Discount  \n",
       "2      2023-04-06  Winter                  Evening    Loyalty Program  \n",
       "3      2023-03-23  Spring                  Evening           Discount  \n",
       "4      2023-10-28  Spring                  Morning           Discount  "
      ]
     },
     "execution_count": 33,
     "metadata": {},
     "output_type": "execute_result"
    }
   ],
   "source": [
    "df.head()"
   ]
  },
  {
   "cell_type": "code",
   "execution_count": 34,
   "id": "48384d0a-0a11-492d-b1f2-aedcf6f252e9",
   "metadata": {},
   "outputs": [
    {
     "data": {
      "text/plain": [
       "Region\n",
       "Asia             2472\n",
       "Europe           2547\n",
       "North America    2454\n",
       "South America    2527\n",
       "Name: Transaction_ID, dtype: int64"
      ]
     },
     "execution_count": 34,
     "metadata": {},
     "output_type": "execute_result"
    }
   ],
   "source": [
    "transaksi_region = df.groupby('Region')['Transaction_ID'].count()\n",
    "transaksi_region"
   ]
  },
  {
   "cell_type": "code",
   "execution_count": 37,
   "id": "f3b5f7aa-3fa8-4082-a6a3-bd08a5858165",
   "metadata": {},
   "outputs": [
    {
     "data": {
      "image/png": "[encoded data removed]",
      "text/plain": [
       "<Figure size 1000x500 with 1 Axes>"
      ]
     },
     "metadata": {},
     "output_type": "display_data"
    }
   ],
   "source": [
    "plt.figure(figsize=(10, 5))\n",
    "sns.lineplot(x=transaksi_region.index, y=transaksi_region.values)\n",
    "plt.title('Jumlah Transaksi yang memberikan kontribusi penjualan tertinggi disetiap region')\n",
    "plt.xlabel('Region')\n",
    "plt.ylabel('Jumlah Transaksi')\n",
    "plt.grid(True)\n",
    "plt.show()\n",
    "\n",
    "# Penjualan tertinggi dari setiap region paling tinggi terjadi pada region\n",
    "# Europe dan South America. "
   ]
  },
  {
   "cell_type": "code",
   "execution_count": null,
   "id": "5fb72b2c-a62f-491e-9122-ff649da831d3",
   "metadata": {},
   "outputs": [],
   "source": [
    "# 7. KESIMPULAN & REKOMENDASI BISNIS\n",
    "\n",
    "# KESIMPULAN:\n",
    "# 1. Kategori Electronic adalah kategori yang paling populer dari kategori lainnya.\n",
    "# 2. Waktu penjualan sering terjadi pada waktu malam hari, jika dikira-kira 18.00 - 23.59\n",
    "# 3. Region Europe dan South America adalah 2 region dengan kontibusi penjualan terbesar secara signifikan.\n",
    "\n",
    "# REKOMENDASI UNTUK TIM BISNIS:\n",
    "# 1. Marketing: Lakukan promosi dengan penukaran \"poin pembelian\" untuk mendorong lebih banyak penjualan.\n",
    "# 2. Manajemen Stok: Pastikan stok untuk produk-produk dari kategori electronic selalu aman, terutama di gudang yang melayani region Europe dan Soth america.\n",
    "# 3. Ekspansi: Pertimbangkan untuk mengadakan event atau promosi khusus di region-region dengan penjualan tertinggi untuk meningkatkan loyalitas pelanggan."
   ]
  },
  {
   "cell_type": "code",
   "execution_count": 38,
   "id": "e7f2179e-dea3-4031-99f7-fcc82f2c771e",
   "metadata": {},
   "outputs": [
    {
     "data": {
      "text/plain": [
       "Retention_Strategy\n",
       "Discount           3277\n",
       "Email Campaign     3359\n",
       "Loyalty Program    3364\n",
       "Name: Transaction_ID, dtype: int64"
      ]
     },
     "execution_count": 38,
     "metadata": {},
     "output_type": "execute_result"
    }
   ],
   "source": [
    "strategi_penjualan = df.groupby('Retention_Strategy')['Transaction_ID'].count()\n",
    "strategi_penjualan"
   ]
  },
  {
   "cell_type": "code",
   "execution_count": 40,
   "id": "17cb70a5-bf65-4c53-90ce-5a885f6e83c7",
   "metadata": {},
   "outputs": [
    {
     "data": {
      "image/png": "[encoded data removed]",
      "text/plain": [
       "<Figure size 1000x500 with 1 Axes>"
      ]
     },
     "metadata": {},
     "output_type": "display_data"
    }
   ],
   "source": [
    "plt.figure(figsize=(10, 5))\n",
    "sns.lineplot(x=strategi_penjualan.index, y=strategi_penjualan.values)\n",
    "plt.title('Strategi Penjualan yang diminati')\n",
    "plt.xlabel('Strategi')\n",
    "plt.ylabel('Jumlah Transaksi')\n",
    "plt.grid(True)\n",
    "plt.show()"
   ]
  }
 ],
 "metadata": {
  "kernelspec": {
   "display_name": "Python 3 (ipykernel)",
   "language": "python",
   "name": "python3"
  },
  "language_info": {
   "codemirror_mode": {
    "name": "ipython",
    "version": 3
   },
   "file_extension": ".py",
   "mimetype": "text/x-python",
   "name": "python",
   "nbconvert_exporter": "python",
   "pygments_lexer": "ipython3",
   "version": "3.13.5"
  }
 },
 "nbformat": 4,
 "nbformat_minor": 5
}
